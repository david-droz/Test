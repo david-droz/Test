{
 "cells": [
  {
   "cell_type": "markdown",
   "metadata": {
    "collapsed": true,
    "deletable": true,
    "editable": true
   },
   "source": [
    "# Printing messages"
   ]
  },
  {
   "cell_type": "code",
   "execution_count": 1,
   "metadata": {
    "collapsed": false,
    "deletable": true,
    "editable": true
   },
   "outputs": [
    {
     "name": "stdout",
     "output_type": "stream",
     "text": [
      "Hello world!\n"
     ]
    }
   ],
   "source": [
    "print(\"Hello world!\")"
   ]
  },
  {
   "cell_type": "markdown",
   "metadata": {
    "deletable": true,
    "editable": true
   },
   "source": [
    "# Variables and basic arithmetic"
   ]
  },
  {
   "cell_type": "code",
   "execution_count": 2,
   "metadata": {
    "collapsed": false,
    "deletable": true,
    "editable": true
   },
   "outputs": [
    {
     "name": "stdout",
     "output_type": "stream",
     "text": [
      "3 -1 2 0.5 0\n",
      "3\n",
      "1 0\n"
     ]
    }
   ],
   "source": [
    "# <--- This is a comment. This line is ignored by Python\n",
    "\n",
    "a = 1\n",
    "b = 2\n",
    "print(a+b , a-b , a*b , a/b, a//b)  # Addition, subtraction, multiplication, real division, floor division\n",
    "\n",
    "# Note: in Python 3,  1/2 = 0.5.  In older versions (Python 2), 1/2 = 0 (Integer division)\n",
    "\n",
    "b += 1   # increase value of b\n",
    "print(b)  \n",
    "\n",
    "a = b**2  # a is now equal to 9 (b*b). Note that I can freely redefine a even if it was already defined\n",
    "\n",
    "print(a%2 , a%3)  # Remainder of integer vision"
   ]
  },
  {
   "cell_type": "markdown",
   "metadata": {
    "deletable": true,
    "editable": true
   },
   "source": [
    "# Types"
   ]
  },
  {
   "cell_type": "code",
   "execution_count": 3,
   "metadata": {
    "collapsed": false,
    "deletable": true,
    "editable": true
   },
   "outputs": [
    {
     "name": "stdout",
     "output_type": "stream",
     "text": [
      "5.0 5.0\n",
      "5 True\n",
      "5 5\n",
      "5.0 5\n"
     ]
    }
   ],
   "source": [
    "a_int = 5      # Integer\n",
    "a_float = 5.0  # Float\n",
    "a_str = \"5.0\"  # String of characters\n",
    "a_bool = True  # Can also be False\n",
    "\n",
    "# Type conversion\n",
    "print(a_str, float(a_str)) # Convert string to float\n",
    "print(a_int, bool(a_int))# 5 is non-zero and therefore evaluates to True\n",
    "print(a_int, str(a_int)) # Convert integer to string\n",
    "print(a_str, int(float(a_str)))  # Convert string to float then integer"
   ]
  },
  {
   "cell_type": "markdown",
   "metadata": {
    "deletable": true,
    "editable": true
   },
   "source": [
    "# Loops"
   ]
  },
  {
   "cell_type": "code",
   "execution_count": 4,
   "metadata": {
    "collapsed": false,
    "deletable": true,
    "editable": true
   },
   "outputs": [
    {
     "name": "stdout",
     "output_type": "stream",
     "text": [
      "Loop stage: 0\n",
      "Loop stage: 1\n",
      "Loop stage: 2\n",
      "Loop stage: 3\n",
      "Loop stage: 4\n",
      "5\n",
      "10\n"
     ]
    }
   ],
   "source": [
    "for i in range(5):\n",
    "    print(\"Loop stage:\", i)   # Note the indentation used to define blocks (inside the loop: indented.)\n",
    "\n",
    "i += 1   # variable i still exists after the loop\n",
    "print(i)\n",
    "\n",
    "while i < 10:\n",
    "    i += 1\n",
    "print(i)"
   ]
  },
  {
   "cell_type": "markdown",
   "metadata": {
    "deletable": true,
    "editable": true
   },
   "source": [
    "# Conditionals"
   ]
  },
  {
   "cell_type": "code",
   "execution_count": 5,
   "metadata": {
    "collapsed": false,
    "deletable": true,
    "editable": true
   },
   "outputs": [
    {
     "name": "stdout",
     "output_type": "stream",
     "text": [
      "i exactly 10 :  True\n"
     ]
    }
   ],
   "source": [
    "# In a Jupyter Notebook, variables from previous cells still exist\n",
    "\n",
    "if i < 10 :\n",
    "    print(\"i lower than 10\")\n",
    "elif i > 10:\n",
    "    print(\"i greater than 10\")\n",
    "else:\n",
    "    print(\"i exactly 10 : \", i==10)    #  a single = means assigning a value. A double == means testing equality\n",
    "\n",
    "# greater or equal: >=   ;   lower or equal: <="
   ]
  },
  {
   "cell_type": "markdown",
   "metadata": {
    "deletable": true,
    "editable": true
   },
   "source": [
    "# Functions"
   ]
  },
  {
   "cell_type": "code",
   "execution_count": 6,
   "metadata": {
    "collapsed": false,
    "deletable": true,
    "editable": true
   },
   "outputs": [
    {
     "name": "stdout",
     "output_type": "stream",
     "text": [
      "20\n",
      "10058\n"
     ]
    }
   ],
   "source": [
    "def someTestFunction(x,y):\n",
    "    return x*y\n",
    "\n",
    "print(someTestFunction(4,5))\n",
    "print(someTestFunction(94,107))"
   ]
  },
  {
   "cell_type": "markdown",
   "metadata": {
    "deletable": true,
    "editable": true
   },
   "source": [
    "# Lists, iterators"
   ]
  },
  {
   "cell_type": "code",
   "execution_count": 7,
   "metadata": {
    "collapsed": false,
    "deletable": true,
    "editable": true
   },
   "outputs": [
    {
     "name": "stdout",
     "output_type": "stream",
     "text": [
      "Iterating on list a:\n",
      "1\n",
      "2\n",
      "3\n",
      "4\n",
      "5\n",
      "Iterating on both lists:\n",
      "1 8.0\n",
      "2 foo\n",
      "3 True\n",
      "4 2\n",
      "5 bar\n",
      "Enumerating modified list b:\n",
      "0 8.0\n",
      "1 foo\n",
      "2 True\n",
      "3 2\n",
      "4 bar\n",
      "5 42\n",
      "6 [1, 2, 3, 4, 5]\n"
     ]
    }
   ],
   "source": [
    "a = [1,2,3,4,5]\n",
    "b = [8.0,'foo',True,2,\"bar\"]  # A list can hold several types. Strings can be delimited by either ' or \" \n",
    "\n",
    "print(\"Iterating on list a:\")\n",
    "for x in a:\n",
    "    print(x)\n",
    "    \n",
    "print(\"Iterating on both lists:\")\n",
    "if len(a) == len(b):\n",
    "    for i in range(len(a)):\n",
    "        print(a[i],b[i])\n",
    "        \n",
    "b.append(42)  # Lists are dynamic, can always add stuff\n",
    "b.append(a)   # Lists can contain other lists\n",
    "\n",
    "print(\"Enumerating modified list b:\")\n",
    "for i,x in enumerate(b):\n",
    "    print(i,x)\n"
   ]
  },
  {
   "cell_type": "code",
   "execution_count": 8,
   "metadata": {
    "collapsed": false,
    "deletable": true,
    "editable": true
   },
   "outputs": [
    {
     "name": "stdout",
     "output_type": "stream",
     "text": [
      "True\n",
      "[8.0, 'foo', True, 2, 'bar', 42]\n",
      "---\n",
      "8.0 foo\n",
      "42 bar\n",
      "[True, 2, 'bar', 42]\n"
     ]
    }
   ],
   "source": [
    "c = b.pop()   # Remove last element of the list\n",
    "print(c == a) # ... which happens to be list a\n",
    "print(b)      # Can print a list directly - see that its last element is gone now\n",
    "\n",
    "print(\"---\")\n",
    "# We can access individual elements of the list:\n",
    "print(b[0],b[1])  # First two\n",
    "print(b[-1],b[-2])# Last two\n",
    "# and we can slice the list:\n",
    "print(b[2:]) # All elements from number 2 to the last"
   ]
  },
  {
   "cell_type": "code",
   "execution_count": 9,
   "metadata": {
    "collapsed": false,
    "deletable": true,
    "editable": true
   },
   "outputs": [
    {
     "name": "stdout",
     "output_type": "stream",
     "text": [
      "H\n",
      "e\n",
      "l\n",
      "l\n",
      "o\n",
      " \n",
      "W\n",
      "o\n",
      "r\n",
      "l\n",
      "d\n",
      "!\n",
      "World!\n",
      "Hello All!\n",
      "Hello World!How are you?\n"
     ]
    }
   ],
   "source": [
    "# Strings are lists too!\n",
    "\n",
    "hw = \"Hello World!\"\n",
    "\n",
    "for x in hw: print(x)\n",
    "    \n",
    "print(hw.split(' ')[1]) # Separate into two substring using whitespace as delimiter, then print the second part\n",
    "\n",
    "print(hw.replace('World','All')) # String substitution\n",
    "\n",
    "print(hw + 'How are you?')   # String concatenation"
   ]
  },
  {
   "cell_type": "markdown",
   "metadata": {
    "deletable": true,
    "editable": true
   },
   "source": [
    "# Dictionaries"
   ]
  },
  {
   "cell_type": "code",
   "execution_count": 10,
   "metadata": {
    "collapsed": false,
    "deletable": true,
    "editable": true
   },
   "outputs": [
    {
     "name": "stdout",
     "output_type": "stream",
     "text": [
      "58\n",
      "5\n",
      "foo\n",
      "bar\n",
      "8\n",
      "Good keys. Sum: 100\n"
     ]
    }
   ],
   "source": [
    "a = {'foo':58,'bar':42,8:5}   # Unordered list where each object is assigned a name, a \"key\"\n",
    "                              # Keys can be string, integer, ...\n",
    "print(a['foo'])\n",
    "print(a[8])         # Access the element named \"8\"\n",
    "\n",
    "for x in a.keys(): print(x)   # Iterate on the list of keys\n",
    "\n",
    "if 'foo' in a.keys() and 'bar' in a.keys():\n",
    "    print(\"Good keys. Sum:\",a['foo'] + a['bar'])"
   ]
  },
  {
   "cell_type": "markdown",
   "metadata": {},
   "source": [
    "# Write and read to/from files"
   ]
  },
  {
   "cell_type": "code",
   "execution_count": 11,
   "metadata": {
    "collapsed": false
   },
   "outputs": [
    {
     "name": "stdout",
     "output_type": "stream",
     "text": [
      "True\n"
     ]
    }
   ],
   "source": [
    "# Classic syntax\n",
    "\n",
    "myfile = open('demo.txt','w')   # 'w' : open in 'write' mode\n",
    "myfile.write('foo')\n",
    "myfile.close()\n",
    "\n",
    "# New/recommended python syntax\n",
    "with open('demo.txt','w') as myfile:    # I open the same file: it is erased\n",
    "    myfile.write('foo')         #  Indented block. The file is closed automatically at the end of the block\n",
    "    \n",
    "# Write a list to a file, line by line\n",
    "a = ['a','b','c','d']\n",
    "with open('demo.txt','w') as myfile:\n",
    "    for item in a :\n",
    "        myfile.write(item + '\\n')   # '\\n' : linebreak\n",
    "    \n",
    "# Read that file, line by line\n",
    "with open('demo.txt','r') as myfile:   # 'r' : open in 'read' mode\n",
    "    b = []\n",
    "    for line in myfile:\n",
    "        b.append( line.rstrip('\\n'))    # Remove the '\\n' linebreak character\n",
    "        \n",
    "print(b == a)    # Should be True"
   ]
  },
  {
   "cell_type": "markdown",
   "metadata": {},
   "source": [
    "# Libraries"
   ]
  },
  {
   "cell_type": "code",
   "execution_count": 12,
   "metadata": {
    "collapsed": false
   },
   "outputs": [
    {
     "name": "stdout",
     "output_type": "stream",
     "text": [
      "Slept for 5.000266790390015 seconds\n",
      "3.141592653589793\n",
      "0.9932517730102834\n"
     ]
    }
   ],
   "source": [
    "import time  # Use the library relative to time\n",
    "\n",
    "currentTime = time.time()  # Get current epoch in seconds\n",
    "time.sleep(5)              # Sleep for 5 seconds\n",
    "elapsedTime = time.time() - currentTime\n",
    "\n",
    "print(\"Slept for {} seconds\".format(elapsedTime))  # Note the way I insert a variable into a string\n",
    "\n",
    "from math import pi   # I only want pi from that library and nothing else, so I don't need to write \"math.pi\"\n",
    "\n",
    "print(pi)\n",
    "\n",
    "from math import log as ln  # I can rename a library or function when importing it\n",
    "\n",
    "print(ln(2.7))"
   ]
  },
  {
   "cell_type": "markdown",
   "metadata": {},
   "source": [
    "## Some useful libraries :\n",
    "\n",
    "I keep using those over and over again\n",
    "\n",
    "- `math` : mathematical objects and functions\n",
    "- `os` : communicate with the file system (check file existence, etc)\n",
    "- `sys` : communicate with the system. In particular, `sys.argv` to get command-line arguments\n",
    "- `argparse` : parser for command-line arguments\n",
    "- `glob` : function `glob.glob()` to list files in a directory as a Python list\n",
    "- `pickle` : save a Python object as a binary file or load it. \n",
    "- `copy` : when you need to make sure that you get a copy instead of a pointer (typically for lists, arrays, etc)\n",
    "- `time` : self-explanatory\n",
    "- `numpy` : advanced math tools and functions, in particular fast management of arrays, vectors, etc. Very powerful\n",
    "- `scipy` : numpy's sister library dedicated to statistics\n",
    "- `matplotlib` : plotting library inspired from Matlab\n",
    "\n",
    "And specifically for machine learning: `scikit-learn`, `keras`, `tensorflow`, `pytorch`"
   ]
  },
  {
   "cell_type": "markdown",
   "metadata": {
    "collapsed": true,
    "deletable": true,
    "editable": true
   },
   "source": [
    "# Figures"
   ]
  },
  {
   "cell_type": "code",
   "execution_count": 13,
   "metadata": {
    "collapsed": false
   },
   "outputs": [
    {
     "data": {
      "text/plain": [
       "[<matplotlib.lines.Line2D at 0x1d08626e470>]"
      ]
     },
     "execution_count": 13,
     "metadata": {},
     "output_type": "execute_result"
    },
    {
     "data": {
      "image/png": "[encoded data removed]",
      "text/plain": [
       "<matplotlib.figure.Figure at 0x1d083f029b0>"
      ]
     },
     "metadata": {},
     "output_type": "display_data"
    }
   ],
   "source": [
    "%matplotlib inline \n",
    "# The above line is for Jupyter Notebooks only \n",
    "import matplotlib.pyplot as plt    # Import plotting library - I write this line so much I have muscle memory for it\n",
    "\n",
    "plt.plot([1,2,3],[1,4,9])"
   ]
  },
  {
   "cell_type": "code",
   "execution_count": 14,
   "metadata": {
    "collapsed": false
   },
   "outputs": [
    {
     "data": {
      "text/plain": [
       "<matplotlib.text.Text at 0x1d086369a58>"
      ]
     },
     "execution_count": 14,
     "metadata": {},
     "output_type": "execute_result"
    },
    {
     "data": {
      "image/png": "[encoded data removed]",
      "text/plain": [
       "<matplotlib.figure.Figure at 0x1d086288c18>"
      ]
     },
     "metadata": {},
     "output_type": "display_data"
    }
   ],
   "source": [
    "fig1 = plt.figure() \n",
    "\n",
    "x = range(-10,20,2)\n",
    "y_quadratic = [a**2 for a in x]   # Create a list in a single line\n",
    "y_cubic = [a**3 for a in x]\n",
    "\n",
    "plt.plot(x,y_quadratic,'--',label='quad',color='blue')\n",
    "plt.plot(x,y_cubic,'o-',label='cube',color='red')\n",
    "plt.xlabel('Horizontal Axis')\n",
    "plt.ylabel('Vertical Axis')\n",
    "plt.title(\"Full demo\")\n",
    "plt.legend(loc='best')  # Can also specify 'upper left', 'lower right', etc\n",
    "plt.xlim((-15,25))  # Limits on the x-axis\n",
    "#plt.yscale('log')  # In case you want a logarithmic plot\n",
    "plt.text(0,3000,'Some text',fontsize='12',rotation=30,color='green')"
   ]
  },
  {
   "cell_type": "markdown",
   "metadata": {},
   "source": [
    "## Be careful when manipulating arrays..."
   ]
  },
  {
   "cell_type": "code",
   "execution_count": 15,
   "metadata": {
    "collapsed": false
   },
   "outputs": [
    {
     "name": "stdout",
     "output_type": "stream",
     "text": [
      "[1, 2, 3, 4, 5] [1, 2, 3, 4, 5]\n",
      "True\n",
      "---\n",
      "[1, 2, 3, 4, 5] [1, 2, 3, 4, 5, 6]\n"
     ]
    }
   ],
   "source": [
    "a = [1,2,3,4]\n",
    "b = a        # Is this a copy? Or a pointer?\n",
    "\n",
    "b.append(5)  # If it was a copy, then a and b should be different now\n",
    "\n",
    "print(a,b)   # Modifying b also modifies a.\n",
    "print(a is b) # They are still the same. \n",
    "print('---')\n",
    "\n",
    "# Here is a workaround\n",
    "c = [x for x in a]  # I specify that the list should have the same content, instead of being the same\n",
    "c.append(6)\n",
    "\n",
    "print(a,c)   # Here I changed c but I didn't change a. \n",
    "             # Be careful however: if 'a' contains a list, then you can run in the same problem\n",
    "\n",
    "\n",
    "# You can use the Python library 'copy' (with a 'deep copy') to make 100% sure you won't have that issue"
   ]
  },
  {
   "cell_type": "markdown",
   "metadata": {},
   "source": [
    "# The Zen of Python"
   ]
  },
  {
   "cell_type": "code",
   "execution_count": 16,
   "metadata": {
    "collapsed": false
   },
   "outputs": [
    {
     "name": "stdout",
     "output_type": "stream",
     "text": [
      "The Zen of Python, by Tim Peters\n",
      "\n",
      "Beautiful is better than ugly.\n",
      "Explicit is better than implicit.\n",
      "Simple is better than complex.\n",
      "Complex is better than complicated.\n",
      "Flat is better than nested.\n",
      "Sparse is better than dense.\n",
      "Readability counts.\n",
      "Special cases aren't special enough to break the rules.\n",
      "Although practicality beats purity.\n",
      "Errors should never pass silently.\n",
      "Unless explicitly silenced.\n",
      "In the face of ambiguity, refuse the temptation to guess.\n",
      "There should be one-- and preferably only one --obvious way to do it.\n",
      "Although that way may not be obvious at first unless you're Dutch.\n",
      "Now is better than never.\n",
      "Although never is often better than *right* now.\n",
      "If the implementation is hard to explain, it's a bad idea.\n",
      "If the implementation is easy to explain, it may be a good idea.\n",
      "Namespaces are one honking great idea -- let's do more of those!\n"
     ]
    }
   ],
   "source": [
    "import this"
   ]
  }
 ],
 "metadata": {
  "kernelspec": {
   "display_name": "Python 3",
   "language": "python",
   "name": "python3"
  },
  "language_info": {
   "codemirror_mode": {
    "name": "ipython",
    "version": 3
   },
   "file_extension": ".py",
   "mimetype": "text/x-python",
   "name": "python",
   "nbconvert_exporter": "python",
   "pygments_lexer": "ipython3",
   "version": "3.6.1"
  }
 },
 "nbformat": 4,
 "nbformat_minor": 2
}
